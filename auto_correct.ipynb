{
 "cells": [
  {
   "cell_type": "code",
   "execution_count": 1,
   "id": "caa81f68",
   "metadata": {},
   "outputs": [
    {
     "name": "stdout",
     "output_type": "stream",
     "text": [
      "Requirement already satisfied: autocorrect in c:\\users\\saksh\\anaconda3\\lib\\site-packages (2.6.1)\n"
     ]
    }
   ],
   "source": [
    "#installing Auto correct to collab\n",
    "!pip install autocorrect"
   ]
  },
  {
   "cell_type": "code",
   "execution_count": 2,
   "id": "84d81561",
   "metadata": {},
   "outputs": [],
   "source": [
    "#importing The Libraries\n",
    "from autocorrect import Speller"
   ]
  },
  {
   "cell_type": "code",
   "execution_count": 3,
   "id": "4a035a33",
   "metadata": {},
   "outputs": [],
   "source": [
    "# Create an instance/object of the\n",
    "spell = Speller (lang='en')"
   ]
  },
  {
   "cell_type": "code",
   "execution_count": 4,
   "id": "43a49761",
   "metadata": {},
   "outputs": [
    {
     "name": "stdout",
     "output_type": "stream",
     "text": [
      "Enter any word:corractoion\n"
     ]
    }
   ],
   "source": [
    "# Take input from the user\n",
    "word = input (\"Enter any word:\")"
   ]
  },
  {
   "cell_type": "code",
   "execution_count": 5,
   "id": "1e919edb",
   "metadata": {},
   "outputs": [],
   "source": [
    "# Perform auto-correction\n",
    "corrected = spell(word)"
   ]
  },
  {
   "cell_type": "code",
   "execution_count": 6,
   "id": "e0e92037",
   "metadata": {},
   "outputs": [
    {
     "name": "stdout",
     "output_type": "stream",
     "text": [
      "did you mean to tell :-  correction\n"
     ]
    }
   ],
   "source": [
    "# Check if the input word is alread\n",
    "if corrected == word:\n",
    "  print(\"The word \",word,\"is spelled correctly.\")\n",
    "else:\n",
    "  print(f\"did you mean to tell :- \",corrected)  "
   ]
  },
  {
   "cell_type": "code",
   "execution_count": null,
   "id": "c8012327",
   "metadata": {},
   "outputs": [],
   "source": []
  }
 ],
 "metadata": {
  "kernelspec": {
   "display_name": "Python 3 (ipykernel)",
   "language": "python",
   "name": "python3"
  },
  "language_info": {
   "codemirror_mode": {
    "name": "ipython",
    "version": 3
   },
   "file_extension": ".py",
   "mimetype": "text/x-python",
   "name": "python",
   "nbconvert_exporter": "python",
   "pygments_lexer": "ipython3",
   "version": "3.11.3"
  }
 },
 "nbformat": 4,
 "nbformat_minor": 5
}
